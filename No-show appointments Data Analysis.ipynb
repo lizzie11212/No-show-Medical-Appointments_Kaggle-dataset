{
 "cells": [
  {
   "cell_type": "markdown",
   "metadata": {},
   "source": [
    "# Project: No-show appointments Data Analysis\n",
    "\n",
    "## Table of Contents\n",
    "<ul>\n",
    "<li><a href=\"#intro\">Introduction</a></li>\n",
    "<li><a href=\"#wrangling\">Data Wrangling</a></li>\n",
    "<li><a href=\"#eda\">Exploratory Data Analysis</a></li>\n",
    "<li><a href=\"#conclusions\">Conclusions</a></li>\n",
    "</ul>"
   ]
  },
  {
   "cell_type": "markdown",
   "metadata": {},
   "source": [
    "<a id='intro'></a>\n",
    "## Introduction\n",
    "\n",
    "In this project, I will analyze the no-show appointments dataset and find out the important factors for us to predict if a patient will show up for their scheduled appointment."
   ]
  },
  {
   "cell_type": "code",
   "execution_count": 4,
   "metadata": {},
   "outputs": [],
   "source": [
    "#import numpy and pandas\n",
    "import numpy as np\n",
    "import pandas as pd\n",
    "import matplotlib.pyplot as plt\n",
    "% matplotlib inline\n",
    "import seaborn as sns\n",
    "sns.set_style('darkgrid')"
   ]
  },
  {
   "cell_type": "markdown",
   "metadata": {},
   "source": [
    "<a id='wrangling'></a>\n",
    "### Data Wrangling"
   ]
  },
  {
   "cell_type": "code",
   "execution_count": 5,
   "metadata": {},
   "outputs": [
    {
     "data": {
      "text/html": [
       "<div>\n",
       "<style scoped>\n",
       "    .dataframe tbody tr th:only-of-type {\n",
       "        vertical-align: middle;\n",
       "    }\n",
       "\n",
       "    .dataframe tbody tr th {\n",
       "        vertical-align: top;\n",
       "    }\n",
       "\n",
       "    .dataframe thead th {\n",
       "        text-align: right;\n",
       "    }\n",
       "</style>\n",
       "<table border=\"1\" class=\"dataframe\">\n",
       "  <thead>\n",
       "    <tr style=\"text-align: right;\">\n",
       "      <th></th>\n",
       "      <th>PatientId</th>\n",
       "      <th>AppointmentID</th>\n",
       "      <th>Gender</th>\n",
       "      <th>ScheduledDay</th>\n",
       "      <th>AppointmentDay</th>\n",
       "      <th>Age</th>\n",
       "      <th>Neighbourhood</th>\n",
       "      <th>Scholarship</th>\n",
       "      <th>Hipertension</th>\n",
       "      <th>Diabetes</th>\n",
       "      <th>Alcoholism</th>\n",
       "      <th>Handcap</th>\n",
       "      <th>SMS_received</th>\n",
       "      <th>No-show</th>\n",
       "    </tr>\n",
       "  </thead>\n",
       "  <tbody>\n",
       "    <tr>\n",
       "      <th>0</th>\n",
       "      <td>2.987250e+13</td>\n",
       "      <td>5642903</td>\n",
       "      <td>F</td>\n",
       "      <td>2016-04-29T18:38:08Z</td>\n",
       "      <td>2016-04-29T00:00:00Z</td>\n",
       "      <td>62</td>\n",
       "      <td>JARDIM DA PENHA</td>\n",
       "      <td>0</td>\n",
       "      <td>1</td>\n",
       "      <td>0</td>\n",
       "      <td>0</td>\n",
       "      <td>0</td>\n",
       "      <td>0</td>\n",
       "      <td>No</td>\n",
       "    </tr>\n",
       "    <tr>\n",
       "      <th>1</th>\n",
       "      <td>5.589978e+14</td>\n",
       "      <td>5642503</td>\n",
       "      <td>M</td>\n",
       "      <td>2016-04-29T16:08:27Z</td>\n",
       "      <td>2016-04-29T00:00:00Z</td>\n",
       "      <td>56</td>\n",
       "      <td>JARDIM DA PENHA</td>\n",
       "      <td>0</td>\n",
       "      <td>0</td>\n",
       "      <td>0</td>\n",
       "      <td>0</td>\n",
       "      <td>0</td>\n",
       "      <td>0</td>\n",
       "      <td>No</td>\n",
       "    </tr>\n",
       "    <tr>\n",
       "      <th>2</th>\n",
       "      <td>4.262962e+12</td>\n",
       "      <td>5642549</td>\n",
       "      <td>F</td>\n",
       "      <td>2016-04-29T16:19:04Z</td>\n",
       "      <td>2016-04-29T00:00:00Z</td>\n",
       "      <td>62</td>\n",
       "      <td>MATA DA PRAIA</td>\n",
       "      <td>0</td>\n",
       "      <td>0</td>\n",
       "      <td>0</td>\n",
       "      <td>0</td>\n",
       "      <td>0</td>\n",
       "      <td>0</td>\n",
       "      <td>No</td>\n",
       "    </tr>\n",
       "    <tr>\n",
       "      <th>3</th>\n",
       "      <td>8.679512e+11</td>\n",
       "      <td>5642828</td>\n",
       "      <td>F</td>\n",
       "      <td>2016-04-29T17:29:31Z</td>\n",
       "      <td>2016-04-29T00:00:00Z</td>\n",
       "      <td>8</td>\n",
       "      <td>PONTAL DE CAMBURI</td>\n",
       "      <td>0</td>\n",
       "      <td>0</td>\n",
       "      <td>0</td>\n",
       "      <td>0</td>\n",
       "      <td>0</td>\n",
       "      <td>0</td>\n",
       "      <td>No</td>\n",
       "    </tr>\n",
       "    <tr>\n",
       "      <th>4</th>\n",
       "      <td>8.841186e+12</td>\n",
       "      <td>5642494</td>\n",
       "      <td>F</td>\n",
       "      <td>2016-04-29T16:07:23Z</td>\n",
       "      <td>2016-04-29T00:00:00Z</td>\n",
       "      <td>56</td>\n",
       "      <td>JARDIM DA PENHA</td>\n",
       "      <td>0</td>\n",
       "      <td>1</td>\n",
       "      <td>1</td>\n",
       "      <td>0</td>\n",
       "      <td>0</td>\n",
       "      <td>0</td>\n",
       "      <td>No</td>\n",
       "    </tr>\n",
       "  </tbody>\n",
       "</table>\n",
       "</div>"
      ],
      "text/plain": [
       "      PatientId  AppointmentID Gender          ScheduledDay  \\\n",
       "0  2.987250e+13        5642903      F  2016-04-29T18:38:08Z   \n",
       "1  5.589978e+14        5642503      M  2016-04-29T16:08:27Z   \n",
       "2  4.262962e+12        5642549      F  2016-04-29T16:19:04Z   \n",
       "3  8.679512e+11        5642828      F  2016-04-29T17:29:31Z   \n",
       "4  8.841186e+12        5642494      F  2016-04-29T16:07:23Z   \n",
       "\n",
       "         AppointmentDay  Age      Neighbourhood  Scholarship  Hipertension  \\\n",
       "0  2016-04-29T00:00:00Z   62    JARDIM DA PENHA            0             1   \n",
       "1  2016-04-29T00:00:00Z   56    JARDIM DA PENHA            0             0   \n",
       "2  2016-04-29T00:00:00Z   62      MATA DA PRAIA            0             0   \n",
       "3  2016-04-29T00:00:00Z    8  PONTAL DE CAMBURI            0             0   \n",
       "4  2016-04-29T00:00:00Z   56    JARDIM DA PENHA            0             1   \n",
       "\n",
       "   Diabetes  Alcoholism  Handcap  SMS_received No-show  \n",
       "0         0           0        0             0      No  \n",
       "1         0           0        0             0      No  \n",
       "2         0           0        0             0      No  \n",
       "3         0           0        0             0      No  \n",
       "4         1           0        0             0      No  "
      ]
     },
     "execution_count": 5,
     "metadata": {},
     "output_type": "execute_result"
    }
   ],
   "source": [
    "# Load the data and print out a few lines. \n",
    "df = pd.read_csv('noshowappointments-kagglev2-may-2016.csv')\n",
    "df.head()"
   ]
  },
  {
   "cell_type": "code",
   "execution_count": 6,
   "metadata": {},
   "outputs": [
    {
     "name": "stdout",
     "output_type": "stream",
     "text": [
      "(110527, 14)\n"
     ]
    }
   ],
   "source": [
    "# How many samples in this data?\n",
    "print(df.shape)"
   ]
  },
  {
   "cell_type": "markdown",
   "metadata": {},
   "source": [
    "There are 110527 samples, and 14 columns."
   ]
  },
  {
   "cell_type": "code",
   "execution_count": 7,
   "metadata": {},
   "outputs": [
    {
     "name": "stdout",
     "output_type": "stream",
     "text": [
      "<class 'pandas.core.frame.DataFrame'>\n",
      "RangeIndex: 110527 entries, 0 to 110526\n",
      "Data columns (total 14 columns):\n",
      "PatientId         110527 non-null float64\n",
      "AppointmentID     110527 non-null int64\n",
      "Gender            110527 non-null object\n",
      "ScheduledDay      110527 non-null object\n",
      "AppointmentDay    110527 non-null object\n",
      "Age               110527 non-null int64\n",
      "Neighbourhood     110527 non-null object\n",
      "Scholarship       110527 non-null int64\n",
      "Hipertension      110527 non-null int64\n",
      "Diabetes          110527 non-null int64\n",
      "Alcoholism        110527 non-null int64\n",
      "Handcap           110527 non-null int64\n",
      "SMS_received      110527 non-null int64\n",
      "No-show           110527 non-null object\n",
      "dtypes: float64(1), int64(8), object(5)\n",
      "memory usage: 11.8+ MB\n"
     ]
    }
   ],
   "source": [
    "# Inspecting Data Types\n",
    "df.info()"
   ]
  },
  {
   "cell_type": "markdown",
   "metadata": {},
   "source": [
    "Result shows all 14 data columns have 110527 entries, which means non of the columns has null values. "
   ]
  },
  {
   "cell_type": "code",
   "execution_count": 8,
   "metadata": {},
   "outputs": [
    {
     "data": {
      "text/plain": [
       "0"
      ]
     },
     "execution_count": 8,
     "metadata": {},
     "output_type": "execute_result"
    }
   ],
   "source": [
    "# print number of duplicates in dataset\n",
    "df.duplicated().sum()"
   ]
  },
  {
   "cell_type": "markdown",
   "metadata": {},
   "source": [
    "There is no duplicated row."
   ]
  },
  {
   "cell_type": "markdown",
   "metadata": {},
   "source": [
    "### Data Cleaning : Fixing ScheduledDay and AppointmentDay Data Type (convert object to daytime)"
   ]
  },
  {
   "cell_type": "code",
   "execution_count": 9,
   "metadata": {},
   "outputs": [],
   "source": [
    "# Fixing ScheduledDay Data Type: convert object to daytime\n",
    "df['ScheduledDay']=pd.to_datetime(df['ScheduledDay'])"
   ]
  },
  {
   "cell_type": "code",
   "execution_count": 10,
   "metadata": {},
   "outputs": [],
   "source": [
    "# Fixing AppointmentDay Data Type: convert object to daytime\n",
    "df['AppointmentDay']=pd.to_datetime(df['AppointmentDay'])"
   ]
  },
  {
   "cell_type": "code",
   "execution_count": 11,
   "metadata": {},
   "outputs": [
    {
     "name": "stdout",
     "output_type": "stream",
     "text": [
      "<class 'pandas.core.frame.DataFrame'>\n",
      "RangeIndex: 110527 entries, 0 to 110526\n",
      "Data columns (total 14 columns):\n",
      "PatientId         110527 non-null float64\n",
      "AppointmentID     110527 non-null int64\n",
      "Gender            110527 non-null object\n",
      "ScheduledDay      110527 non-null datetime64[ns]\n",
      "AppointmentDay    110527 non-null datetime64[ns]\n",
      "Age               110527 non-null int64\n",
      "Neighbourhood     110527 non-null object\n",
      "Scholarship       110527 non-null int64\n",
      "Hipertension      110527 non-null int64\n",
      "Diabetes          110527 non-null int64\n",
      "Alcoholism        110527 non-null int64\n",
      "Handcap           110527 non-null int64\n",
      "SMS_received      110527 non-null int64\n",
      "No-show           110527 non-null object\n",
      "dtypes: datetime64[ns](2), float64(1), int64(8), object(3)\n",
      "memory usage: 11.8+ MB\n"
     ]
    }
   ],
   "source": [
    "# Check if ScheduledDay and AppointmentDay Data Type are fixed.\n",
    "df.info()"
   ]
  },
  {
   "cell_type": "markdown",
   "metadata": {},
   "source": [
    "## Research Question 1  : How many percentage of the patients will show up for the appointment?"
   ]
  },
  {
   "cell_type": "code",
   "execution_count": 22,
   "metadata": {},
   "outputs": [
    {
     "name": "stdout",
     "output_type": "stream",
     "text": [
      "      PatientId  AppointmentID Gender        ScheduledDay AppointmentDay  Age  \\\n",
      "0  2.987250e+13        5642903      F 2016-04-29 18:38:08     2016-04-29   62   \n",
      "1  5.589978e+14        5642503      M 2016-04-29 16:08:27     2016-04-29   56   \n",
      "2  4.262962e+12        5642549      F 2016-04-29 16:19:04     2016-04-29   62   \n",
      "3  8.679512e+11        5642828      F 2016-04-29 17:29:31     2016-04-29    8   \n",
      "4  8.841186e+12        5642494      F 2016-04-29 16:07:23     2016-04-29   56   \n",
      "\n",
      "       Neighbourhood  Scholarship  Hipertension  Diabetes  Alcoholism  \\\n",
      "0    JARDIM DA PENHA            0             1         0           0   \n",
      "1    JARDIM DA PENHA            0             0         0           0   \n",
      "2      MATA DA PRAIA            0             0         0           0   \n",
      "3  PONTAL DE CAMBURI            0             0         0           0   \n",
      "4    JARDIM DA PENHA            0             1         1           0   \n",
      "\n",
      "   Handcap  SMS_received No-show  No-show count  Show count  \n",
      "0        0             0      No              0           1  \n",
      "1        0             0      No              0           1  \n",
      "2        0             0      No              0           1  \n",
      "3        0             0      No              0           1  \n",
      "4        0             0      No              0           1  \n"
     ]
    }
   ],
   "source": [
    "# Create two new colums - \"No-show count\" and \"Show count\". \n",
    "def no_show_count(x):\n",
    "    if x == \"Yes\":\n",
    "        return 1\n",
    "    else:\n",
    "        return 0\n",
    "    \n",
    "def show_count(y):\n",
    "    if y ==\"No\":\n",
    "        return 1\n",
    "    else: \n",
    "        return 0\n",
    "    \n",
    "df['No-show count'] = df['No-show'].apply(no_show_count)\n",
    "df['Show count'] = df['No-show'].apply(show_count)\n",
    "\n",
    "print(df.head())\n"
   ]
  },
  {
   "cell_type": "code",
   "execution_count": 23,
   "metadata": {},
   "outputs": [
    {
     "name": "stdout",
     "output_type": "stream",
     "text": [
      "0.20193255946510807\n",
      "0.798067440534892\n"
     ]
    }
   ],
   "source": [
    "# Calculate the percentage of No-show patients and the percentage of Show patients.\n",
    "Total_no_show = df['No-show count'].sum()\n",
    "Total_show = df['Show count'].sum()\n",
    "Total_pt = df['No-show count'].count()\n",
    "percentage_noshow_pt = Total_no_show/Total_pt\n",
    "percentage_show_pt = Total_show/Total_pt\n",
    "print(percentage_noshow_pt)\n",
    "print(percentage_show_pt)"
   ]
  },
  {
   "cell_type": "code",
   "execution_count": 17,
   "metadata": {},
   "outputs": [
    {
     "data": {
      "text/plain": [
       "110527"
      ]
     },
     "execution_count": 17,
     "metadata": {},
     "output_type": "execute_result"
    }
   ],
   "source": [
    "Total_pt = df['No-show count'].count()\n",
    "Total_pt"
   ]
  },
  {
   "cell_type": "markdown",
   "metadata": {},
   "source": [
    "20.19% of the patients will miss the appointments, and 79.81% of the patients will show up for the appointments."
   ]
  },
  {
   "cell_type": "code",
   "execution_count": 40,
   "metadata": {},
   "outputs": [
    {
     "data": {
      "text/plain": [
       "<matplotlib.axes._subplots.AxesSubplot at 0x1a1c948cf8>"
      ]
     },
     "execution_count": 40,
     "metadata": {},
     "output_type": "execute_result"
    },
    {
     "data": {
      "image/png": "[encoded data removed]",
      "text/plain": [
       "<Figure size 432x288 with 1 Axes>"
      ]
     },
     "metadata": {},
     "output_type": "display_data"
    }
   ],
   "source": [
    "# Create a pie chart to show the percentage of no-show patients and show patients\n",
    "df.iloc[:, -2:].sum().plot(kind='pie')"
   ]
  },
  {
   "cell_type": "markdown",
   "metadata": {},
   "source": [
    "## Research Question 2  : Will scheduled day and appointment day affect the show up rate?"
   ]
  },
  {
   "cell_type": "code",
   "execution_count": 35,
   "metadata": {},
   "outputs": [
    {
     "data": {
      "text/html": [
       "<div>\n",
       "<style scoped>\n",
       "    .dataframe tbody tr th:only-of-type {\n",
       "        vertical-align: middle;\n",
       "    }\n",
       "\n",
       "    .dataframe tbody tr th {\n",
       "        vertical-align: top;\n",
       "    }\n",
       "\n",
       "    .dataframe thead th {\n",
       "        text-align: right;\n",
       "    }\n",
       "</style>\n",
       "<table border=\"1\" class=\"dataframe\">\n",
       "  <thead>\n",
       "    <tr style=\"text-align: right;\">\n",
       "      <th></th>\n",
       "      <th>PatientId</th>\n",
       "      <th>AppointmentID</th>\n",
       "      <th>Gender</th>\n",
       "      <th>ScheduledDay</th>\n",
       "      <th>AppointmentDay</th>\n",
       "      <th>Age</th>\n",
       "      <th>Neighbourhood</th>\n",
       "      <th>Scholarship</th>\n",
       "      <th>Hipertension</th>\n",
       "      <th>Diabetes</th>\n",
       "      <th>Alcoholism</th>\n",
       "      <th>Handcap</th>\n",
       "      <th>SMS_received</th>\n",
       "      <th>No-show</th>\n",
       "      <th>No-show counts</th>\n",
       "      <th>days_change</th>\n",
       "    </tr>\n",
       "  </thead>\n",
       "  <tbody>\n",
       "    <tr>\n",
       "      <th>0</th>\n",
       "      <td>2.987250e+13</td>\n",
       "      <td>5642903</td>\n",
       "      <td>F</td>\n",
       "      <td>2016-04-29 18:38:08</td>\n",
       "      <td>2016-04-29</td>\n",
       "      <td>62</td>\n",
       "      <td>JARDIM DA PENHA</td>\n",
       "      <td>0</td>\n",
       "      <td>1</td>\n",
       "      <td>0</td>\n",
       "      <td>0</td>\n",
       "      <td>0</td>\n",
       "      <td>0</td>\n",
       "      <td>No</td>\n",
       "      <td>0</td>\n",
       "      <td>0 days</td>\n",
       "    </tr>\n",
       "    <tr>\n",
       "      <th>1</th>\n",
       "      <td>5.589978e+14</td>\n",
       "      <td>5642503</td>\n",
       "      <td>M</td>\n",
       "      <td>2016-04-29 16:08:27</td>\n",
       "      <td>2016-04-29</td>\n",
       "      <td>56</td>\n",
       "      <td>JARDIM DA PENHA</td>\n",
       "      <td>0</td>\n",
       "      <td>0</td>\n",
       "      <td>0</td>\n",
       "      <td>0</td>\n",
       "      <td>0</td>\n",
       "      <td>0</td>\n",
       "      <td>No</td>\n",
       "      <td>0</td>\n",
       "      <td>0 days</td>\n",
       "    </tr>\n",
       "    <tr>\n",
       "      <th>2</th>\n",
       "      <td>4.262962e+12</td>\n",
       "      <td>5642549</td>\n",
       "      <td>F</td>\n",
       "      <td>2016-04-29 16:19:04</td>\n",
       "      <td>2016-04-29</td>\n",
       "      <td>62</td>\n",
       "      <td>MATA DA PRAIA</td>\n",
       "      <td>0</td>\n",
       "      <td>0</td>\n",
       "      <td>0</td>\n",
       "      <td>0</td>\n",
       "      <td>0</td>\n",
       "      <td>0</td>\n",
       "      <td>No</td>\n",
       "      <td>0</td>\n",
       "      <td>0 days</td>\n",
       "    </tr>\n",
       "    <tr>\n",
       "      <th>3</th>\n",
       "      <td>8.679512e+11</td>\n",
       "      <td>5642828</td>\n",
       "      <td>F</td>\n",
       "      <td>2016-04-29 17:29:31</td>\n",
       "      <td>2016-04-29</td>\n",
       "      <td>8</td>\n",
       "      <td>PONTAL DE CAMBURI</td>\n",
       "      <td>0</td>\n",
       "      <td>0</td>\n",
       "      <td>0</td>\n",
       "      <td>0</td>\n",
       "      <td>0</td>\n",
       "      <td>0</td>\n",
       "      <td>No</td>\n",
       "      <td>0</td>\n",
       "      <td>0 days</td>\n",
       "    </tr>\n",
       "    <tr>\n",
       "      <th>4</th>\n",
       "      <td>8.841186e+12</td>\n",
       "      <td>5642494</td>\n",
       "      <td>F</td>\n",
       "      <td>2016-04-29 16:07:23</td>\n",
       "      <td>2016-04-29</td>\n",
       "      <td>56</td>\n",
       "      <td>JARDIM DA PENHA</td>\n",
       "      <td>0</td>\n",
       "      <td>1</td>\n",
       "      <td>1</td>\n",
       "      <td>0</td>\n",
       "      <td>0</td>\n",
       "      <td>0</td>\n",
       "      <td>No</td>\n",
       "      <td>0</td>\n",
       "      <td>0 days</td>\n",
       "    </tr>\n",
       "  </tbody>\n",
       "</table>\n",
       "</div>"
      ],
      "text/plain": [
       "      PatientId  AppointmentID Gender        ScheduledDay AppointmentDay  Age  \\\n",
       "0  2.987250e+13        5642903      F 2016-04-29 18:38:08     2016-04-29   62   \n",
       "1  5.589978e+14        5642503      M 2016-04-29 16:08:27     2016-04-29   56   \n",
       "2  4.262962e+12        5642549      F 2016-04-29 16:19:04     2016-04-29   62   \n",
       "3  8.679512e+11        5642828      F 2016-04-29 17:29:31     2016-04-29    8   \n",
       "4  8.841186e+12        5642494      F 2016-04-29 16:07:23     2016-04-29   56   \n",
       "\n",
       "       Neighbourhood  Scholarship  Hipertension  Diabetes  Alcoholism  \\\n",
       "0    JARDIM DA PENHA            0             1         0           0   \n",
       "1    JARDIM DA PENHA            0             0         0           0   \n",
       "2      MATA DA PRAIA            0             0         0           0   \n",
       "3  PONTAL DE CAMBURI            0             0         0           0   \n",
       "4    JARDIM DA PENHA            0             1         1           0   \n",
       "\n",
       "   Handcap  SMS_received No-show  No-show counts days_change  \n",
       "0        0             0      No               0      0 days  \n",
       "1        0             0      No               0      0 days  \n",
       "2        0             0      No               0      0 days  \n",
       "3        0             0      No               0      0 days  \n",
       "4        0             0      No               0      0 days  "
      ]
     },
     "execution_count": 35,
     "metadata": {},
     "output_type": "execute_result"
    }
   ],
   "source": [
    "# Create a new colum 'days_change' to calculate the time change between scheduled day \n",
    "# and appointment day\n",
    "df['days_change']=df['AppointmentDay'].dt.date-df['ScheduledDay'].dt.date\n",
    "df.head()"
   ]
  },
  {
   "cell_type": "code",
   "execution_count": 212,
   "metadata": {},
   "outputs": [
    {
     "data": {
      "text/plain": [
       "No     0.953531\n",
       "Yes    0.046469\n",
       "Name: No-show, dtype: float64"
      ]
     },
     "execution_count": 212,
     "metadata": {},
     "output_type": "execute_result"
    }
   ],
   "source": [
    "# Let's get all the female patients in datasets, then count the value for show and no-show.\n",
    "sameday_df = df.query('days_change==\"0 days\"')\n",
    "sameday_pt = sameday_df['No-show'].value_counts()\n",
    "Total_sameday_pt = sameday_df['No-show'].count()\n",
    "Proportion_sameday_df = sameday_pt/Total_sameday_pt\n",
    "Proportion_sameday_df"
   ]
  },
  {
   "cell_type": "code",
   "execution_count": 215,
   "metadata": {},
   "outputs": [
    {
     "data": {
      "text/plain": [
       "No     0.71476\n",
       "Yes    0.28524\n",
       "Name: No-show, dtype: float64"
      ]
     },
     "execution_count": 215,
     "metadata": {},
     "output_type": "execute_result"
    }
   ],
   "source": [
    "# Let's get all the female patients in datasets, then count the value for show and no-show.\n",
    "diffday_df = df.query('days_change!=\"0 days\"')\n",
    "diffday_pt = diffday_df['No-show'].value_counts()\n",
    "Total_diffday_pt = diffday_df['No-show'].count()\n",
    "Proportion_diffday_df = diffday_pt/Total_diffday_pt\n",
    "Proportion_diffday_df"
   ]
  },
  {
   "cell_type": "code",
   "execution_count": 216,
   "metadata": {},
   "outputs": [
    {
     "data": {
      "image/png": "[encoded data removed]",
      "text/plain": [
       "<Figure size 432x288 with 1 Axes>"
      ]
     },
     "metadata": {},
     "output_type": "display_data"
    }
   ],
   "source": [
    "plt.bar([\"Same day\", \"Different day\"], [Proportion_sameday_df[0], Proportion_diffday_df[0]], color =['pink','blue'],alpha=0.8)\n",
    "plt.title(\"Percentage of Patients Showing up for appointment\", fontsize=18)\n",
    "plt.xlabel(\"Scheduled day & Appointment day\", fontsize=18)\n",
    "plt.ylabel(\"Percentage\", fontsize=18);"
   ]
  },
  {
   "cell_type": "markdown",
   "metadata": {},
   "source": [
    "The charts shows that if patient's scheduled day and appointment day are at the same day, 95.35% of the patients will show up for the appointments. But if patient's scheduled day and appointment day are at the different day, only 71.48% of the patients will show up for the appointment. Since 23.87% difference is pretty significant, we can conclude that if patient's scheduled day and appointment day are at the same day, they will most likely show up for their appointments."
   ]
  },
  {
   "cell_type": "markdown",
   "metadata": {},
   "source": [
    "## Research Question 3  : What factors are important for us to know in order to predict if a patient will show up for their scheduled appointment?"
   ]
  },
  {
   "cell_type": "markdown",
   "metadata": {},
   "source": [
    "### Gender"
   ]
  },
  {
   "cell_type": "code",
   "execution_count": 195,
   "metadata": {},
   "outputs": [
    {
     "data": {
      "text/plain": [
       "No     0.796854\n",
       "Yes    0.203146\n",
       "Name: No-show, dtype: float64"
      ]
     },
     "execution_count": 195,
     "metadata": {},
     "output_type": "execute_result"
    }
   ],
   "source": [
    "# Let's get all the female patients in datasets, then count the value for show and no-show.\n",
    "F_df = df.query('Gender==\"F\"')\n",
    "F_pt = F_df['No-show'].value_counts()\n",
    "Total_F_pt = F_df['No-show'].count()\n",
    "Proportion_F_df = F_pt/Total_F_pt\n",
    "Proportion_F_df"
   ]
  },
  {
   "cell_type": "code",
   "execution_count": 196,
   "metadata": {},
   "outputs": [
    {
     "data": {
      "text/plain": [
       "No     0.800321\n",
       "Yes    0.199679\n",
       "Name: No-show, dtype: float64"
      ]
     },
     "execution_count": 196,
     "metadata": {},
     "output_type": "execute_result"
    }
   ],
   "source": [
    "# Let's get all the male patients in datasets, then count the value for show and no-show.\n",
    "M_df = df.query('Gender==\"M\"')\n",
    "M_pt = M_df['No-show'].value_counts()\n",
    "Total_M_pt = M_df['No-show'].count()\n",
    "Proportion_M_df = M_pt/Total_M_pt\n",
    "Proportion_M_df"
   ]
  },
  {
   "cell_type": "code",
   "execution_count": 258,
   "metadata": {},
   "outputs": [
    {
     "data": {
      "image/png": "[encoded data removed]",
      "text/plain": [
       "<Figure size 432x288 with 1 Axes>"
      ]
     },
     "metadata": {},
     "output_type": "display_data"
    }
   ],
   "source": [
    "plt.bar([\"Female\", \"Male\"], [Proportion_F_df[0], Proportion_M_df[0]], color =['pink','blue'],alpha=0.8)\n",
    "plt.title(\"Percentage of Patients Showing up for appointment\", fontsize=18)\n",
    "plt.xlabel(\"Gender\", fontsize=18)\n",
    "plt.ylabel(\"Percentage\", fontsize=18);"
   ]
  },
  {
   "cell_type": "markdown",
   "metadata": {},
   "source": [
    "According to the result, Female has 79.68% rate of showing up on appointments, and male has 80.03% rate. However, 0.35% is not a significant difference, we can say that gender is not a factor to predict if a patient will show up for their scheduled appointment."
   ]
  },
  {
   "cell_type": "markdown",
   "metadata": {},
   "source": [
    "### Scholarship (Bolsa Damilia)"
   ]
  },
  {
   "cell_type": "code",
   "execution_count": 169,
   "metadata": {},
   "outputs": [
    {
     "data": {
      "text/plain": [
       "No     0.762637\n",
       "Yes    0.237363\n",
       "Name: No-show, dtype: float64"
      ]
     },
     "execution_count": 169,
     "metadata": {},
     "output_type": "execute_result"
    }
   ],
   "source": [
    "# First, let's get all the Scholarship patients in datasets, \n",
    "#and then count the value for show and no-show.\n",
    "SS_df = df.query('Scholarship==1')\n",
    "SS_pt = SS_df['No-show'].value_counts()\n",
    "Total_SS_pt = SS_df['No-show'].count()\n",
    "Proportion_SS_df = SS_pt/Total_SS_pt\n",
    "Proportion_SS_df"
   ]
  },
  {
   "cell_type": "code",
   "execution_count": 171,
   "metadata": {},
   "outputs": [
    {
     "data": {
      "text/plain": [
       "No     0.801928\n",
       "Yes    0.198072\n",
       "Name: No-show, dtype: float64"
      ]
     },
     "execution_count": 171,
     "metadata": {},
     "output_type": "execute_result"
    }
   ],
   "source": [
    "# Second, let's get all the non-Scholarship patients in datasets, \n",
    "#and then count the value for show and no-show.\n",
    "NonSS_df = df.query('Scholarship==0')\n",
    "NonSS_pt = NonSS_df['No-show'].value_counts()\n",
    "Total_NonSS_pt = NonSS_df['No-show'].count()\n",
    "Proportion_NonSS_df = NonSS_pt/Total_NonSS_pt\n",
    "Proportion_NonSS_df"
   ]
  },
  {
   "cell_type": "code",
   "execution_count": 259,
   "metadata": {
    "scrolled": true
   },
   "outputs": [
    {
     "data": {
      "image/png": "[encoded data removed]",
      "text/plain": [
       "<Figure size 432x288 with 1 Axes>"
      ]
     },
     "metadata": {},
     "output_type": "display_data"
    }
   ],
   "source": [
    "plt.bar([\"Scholarship\", \"No Scholarship\"], [Proportion_SS_df[0], Proportion_NonSS_df[0]], color =['yellow','red'],alpha=0.8)\n",
    "plt.title(\"Percentage of Patients Showing up for appointment\", fontsize=18)\n",
    "plt.xlabel(\"Scholarship (Bolsa Damilia program)\", fontsize=18)\n",
    "plt.ylabel(\"Percentage\", fontsize=18);"
   ]
  },
  {
   "cell_type": "markdown",
   "metadata": {},
   "source": [
    "76.26% of patients with Brasilian welfare program Bolsa Família will show up for the appointments, and 80.19% of patients without Brasilian welfare program Bolsa Família will show up for the appointments. However, 3.9% is not a significant difference, we can say that scholarship is not a factor to predict if a patient will show up for their scheduled appointment."
   ]
  },
  {
   "cell_type": "markdown",
   "metadata": {},
   "source": [
    "### Hipertension pateints "
   ]
  },
  {
   "cell_type": "code",
   "execution_count": 163,
   "metadata": {},
   "outputs": [
    {
     "data": {
      "text/plain": [
       "No     0.82698\n",
       "Yes    0.17302\n",
       "Name: No-show, dtype: float64"
      ]
     },
     "execution_count": 163,
     "metadata": {},
     "output_type": "execute_result"
    }
   ],
   "source": [
    "# First, let's get all the Hipertension patients in datasets, \n",
    "#and then count the value for show and no-show.\n",
    "HTN_df = df.query('Hipertension==1')\n",
    "HTN_pt = HTN_df['No-show'].value_counts()\n",
    "Total_HTN_pt = HTN_df['No-show'].count()\n",
    "Proportion_HTN_df = HTN_pt/Total_HTN_pt\n",
    "Proportion_HTN_df"
   ]
  },
  {
   "cell_type": "code",
   "execution_count": 164,
   "metadata": {},
   "outputs": [
    {
     "data": {
      "text/plain": [
       "No     0.790963\n",
       "Yes    0.209037\n",
       "Name: No-show, dtype: float64"
      ]
     },
     "execution_count": 164,
     "metadata": {},
     "output_type": "execute_result"
    }
   ],
   "source": [
    "# Second, let's get all the non-Hipertension patients in datasets, \n",
    "#and then count the value for show and no-show.\n",
    "NonHTN_df = df.query('Hipertension==0')\n",
    "NonHTN_pt = NonHTN_df['No-show'].value_counts()\n",
    "Total_NonHTN_pt = NonHTN_df['No-show'].count()\n",
    "Proportion_NonHTN_df = NonHTN_pt/Total_NonHTN_pt\n",
    "Proportion_NonHTN_df"
   ]
  },
  {
   "cell_type": "code",
   "execution_count": 260,
   "metadata": {},
   "outputs": [
    {
     "data": {
      "image/png": "[encoded data removed]",
      "text/plain": [
       "<Figure size 432x288 with 1 Axes>"
      ]
     },
     "metadata": {},
     "output_type": "display_data"
    }
   ],
   "source": [
    "plt.bar([\"HTN\", \"No HTN\"], [Proportion_HTN_df[0], Proportion_NonHTN_df[0]], color =['yellow','red'],alpha=0.8)\n",
    "plt.title(\"Percentage of Patients Showing up for appointment\", fontsize=18)\n",
    "plt.xlabel(\"Hipertension\", fontsize=18)\n",
    "plt.ylabel(\"Percentage\", fontsize=18);"
   ]
  },
  {
   "cell_type": "markdown",
   "metadata": {},
   "source": [
    "82.69% of the hypertension patients will show up for appointment, and 79.09% of the non-hypertension patients will show up for appointment. However, 3.6% is not a significant difference, we can say that Hipertension is not a factor to predict if a patient will show up for their scheduled appointment."
   ]
  },
  {
   "cell_type": "markdown",
   "metadata": {},
   "source": [
    "### Diabetes patients"
   ]
  },
  {
   "cell_type": "code",
   "execution_count": 180,
   "metadata": {},
   "outputs": [
    {
     "data": {
      "text/plain": [
       "No     0.819967\n",
       "Yes    0.180033\n",
       "Name: No-show, dtype: float64"
      ]
     },
     "execution_count": 180,
     "metadata": {},
     "output_type": "execute_result"
    }
   ],
   "source": [
    "#Let's get all the Diabetes patients in datasets,and then count the value for show and no-show.\n",
    "DM_df = df.query('Diabetes==1')\n",
    "DM_pt = DM_df['No-show'].value_counts()\n",
    "Total_DM_pt = DM_df['No-show'].count()\n",
    "Proportion_DM_df = DM_pt/Total_DM_pt\n",
    "Proportion_DM_df"
   ]
  },
  {
   "cell_type": "code",
   "execution_count": 181,
   "metadata": {},
   "outputs": [
    {
     "data": {
      "text/plain": [
       "No     0.796372\n",
       "Yes    0.203628\n",
       "Name: No-show, dtype: float64"
      ]
     },
     "execution_count": 181,
     "metadata": {},
     "output_type": "execute_result"
    }
   ],
   "source": [
    "#Let's get all the Non-Diabetes patients in datasets,and then count the value for show and no-show.\n",
    "NonDM_df = df.query('Diabetes==0')\n",
    "NonDM_pt = NonDM_df['No-show'].value_counts()\n",
    "Total_NonDM_pt = NonDM_df['No-show'].count()\n",
    "Proportion_NonDM_df = NonDM_pt/Total_NonDM_pt\n",
    "Proportion_NonDM_df"
   ]
  },
  {
   "cell_type": "code",
   "execution_count": 261,
   "metadata": {},
   "outputs": [
    {
     "data": {
      "image/png": "[encoded data removed]",
      "text/plain": [
       "<Figure size 432x288 with 1 Axes>"
      ]
     },
     "metadata": {},
     "output_type": "display_data"
    }
   ],
   "source": [
    "plt.bar([\"DM\", \"No DM\"], [Proportion_DM_df[0], Proportion_NonDM_df[0]], color =['yellow','red'],alpha=0.8)\n",
    "plt.title(\"Percentage of Patients Showing up for appointment\", fontsize=18)\n",
    "plt.xlabel(\"Diabetes\", fontsize=18)\n",
    "plt.ylabel(\"Percentage\", fontsize=18);"
   ]
  },
  {
   "cell_type": "markdown",
   "metadata": {},
   "source": [
    "81.99% of the diabetes patients will show up for appointment, and 79.63% of the non-diabetes patients will show up for appointment. However, 2.36% is not a significant difference, we can say that Diabetes is not a factor to predict if a patient will show up for their scheduled appointment."
   ]
  },
  {
   "cell_type": "markdown",
   "metadata": {},
   "source": [
    "### Alcoholism patients"
   ]
  },
  {
   "cell_type": "code",
   "execution_count": 183,
   "metadata": {},
   "outputs": [
    {
     "data": {
      "text/plain": [
       "No     0.798512\n",
       "Yes    0.201488\n",
       "Name: No-show, dtype: float64"
      ]
     },
     "execution_count": 183,
     "metadata": {},
     "output_type": "execute_result"
    }
   ],
   "source": [
    "#Let's get all the Alcoholism patients in datasets,and then count the value for show and no-show.\n",
    "Alcoholism_df = df.query('Alcoholism==1')\n",
    "Alcoholism_pt = Alcoholism_df['No-show'].value_counts()\n",
    "Total_Alcoholism_pt = Alcoholism_df['No-show'].count()\n",
    "Proportion_Alcoholism_df = Alcoholism_pt/Total_Alcoholism_pt\n",
    "Proportion_Alcoholism_df"
   ]
  },
  {
   "cell_type": "code",
   "execution_count": 184,
   "metadata": {},
   "outputs": [
    {
     "data": {
      "text/plain": [
       "No     0.798054\n",
       "Yes    0.201946\n",
       "Name: No-show, dtype: float64"
      ]
     },
     "execution_count": 184,
     "metadata": {},
     "output_type": "execute_result"
    }
   ],
   "source": [
    "#Let's get all the Non-Alcoholism patients in datasets,and then count the value for show and no-show.\n",
    "NonAlcoholism_df = df.query('Alcoholism==0')\n",
    "NonAlcoholism_pt = NonAlcoholism_df['No-show'].value_counts()\n",
    "Total_NonAlcoholism_pt = NonAlcoholism_df['No-show'].count()\n",
    "Proportion_NonAlcoholism_df = NonAlcoholism_pt/Total_NonAlcoholism_pt\n",
    "Proportion_NonAlcoholism_df"
   ]
  },
  {
   "cell_type": "code",
   "execution_count": 262,
   "metadata": {},
   "outputs": [
    {
     "data": {
      "image/png": "[encoded data removed]",
      "text/plain": [
       "<Figure size 432x288 with 1 Axes>"
      ]
     },
     "metadata": {},
     "output_type": "display_data"
    }
   ],
   "source": [
    "plt.bar([\"Alcoholism\", \"No Alcoholism\"], [Proportion_Alcoholism_df[0], Proportion_NonAlcoholism_df[0]], color =['yellow','red'],alpha=0.8)\n",
    "plt.title(\"Percentage of Patients Showing up for appointment\", fontsize=18)\n",
    "plt.xlabel(\"Alcoholism\", fontsize=18)\n",
    "plt.ylabel(\"Percentage\", fontsize=18);"
   ]
  },
  {
   "cell_type": "markdown",
   "metadata": {},
   "source": [
    "79.85% of the alcoholism patients will show up for appointment, and 79.81% of the non-alcoholism patients will show up for appointment. However, 0.04% is not a significant difference, we can say that alcoholism is not a factor to predict if a patient will show up for their scheduled appointment."
   ]
  },
  {
   "cell_type": "markdown",
   "metadata": {},
   "source": [
    "### Handicapped patients"
   ]
  },
  {
   "cell_type": "code",
   "execution_count": 186,
   "metadata": {},
   "outputs": [
    {
     "data": {
      "text/plain": [
       "No     0.820764\n",
       "Yes    0.179236\n",
       "Name: No-show, dtype: float64"
      ]
     },
     "execution_count": 186,
     "metadata": {},
     "output_type": "execute_result"
    }
   ],
   "source": [
    "#Let's get all the Handicap patients in datasets,and then count the value for show and no-show.\n",
    "HC_df = df.query('Handcap==1')\n",
    "HC_pt = HC_df['No-show'].value_counts()\n",
    "Total_HC_pt = HC_df['No-show'].count()\n",
    "Proportion_HC_df = HC_pt/Total_HC_pt\n",
    "Proportion_HC_df"
   ]
  },
  {
   "cell_type": "code",
   "execution_count": 187,
   "metadata": {},
   "outputs": [
    {
     "data": {
      "text/plain": [
       "No     0.797647\n",
       "Yes    0.202353\n",
       "Name: No-show, dtype: float64"
      ]
     },
     "execution_count": 187,
     "metadata": {},
     "output_type": "execute_result"
    }
   ],
   "source": [
    "#Let's get all the Non-Handicap patients in datasets,and then count the value for show and no-show.\n",
    "NonHC_df = df.query('Handcap==0')\n",
    "NonHC_pt = NonHC_df['No-show'].value_counts()\n",
    "Total_NonHC_pt = NonHC_df['No-show'].count()\n",
    "Proportion_NonHC_df = NonHC_pt/Total_NonHC_pt\n",
    "Proportion_NonHC_df"
   ]
  },
  {
   "cell_type": "code",
   "execution_count": 263,
   "metadata": {},
   "outputs": [
    {
     "data": {
      "image/png": "[encoded data removed]",
      "text/plain": [
       "<Figure size 432x288 with 1 Axes>"
      ]
     },
     "metadata": {},
     "output_type": "display_data"
    }
   ],
   "source": [
    "plt.bar([\"Handicapped\", \"No Handicapped\"], [Proportion_HC_df[0], Proportion_NonHC_df[0]], color =['yellow','red'],alpha=0.8)\n",
    "plt.title(\"Percentage of Patients Showing up for appointment\", fontsize=18)\n",
    "plt.xlabel(\"Handicapped\", fontsize=18)\n",
    "plt.ylabel(\"Percentage\", fontsize=18);"
   ]
  },
  {
   "cell_type": "markdown",
   "metadata": {},
   "source": [
    "82.07% of the handicapped patients will show up for appointment, and 79.76% of the non-handicapped patients will show up for appointment. However, 2.31% is not a significant difference, we can say that Handicapped is not a factor to predict if a patient will show up for their scheduled appointment."
   ]
  },
  {
   "cell_type": "markdown",
   "metadata": {},
   "source": [
    "### SMS_received patients"
   ]
  },
  {
   "cell_type": "code",
   "execution_count": 189,
   "metadata": {},
   "outputs": [
    {
     "data": {
      "text/plain": [
       "No     0.724255\n",
       "Yes    0.275745\n",
       "Name: No-show, dtype: float64"
      ]
     },
     "execution_count": 189,
     "metadata": {},
     "output_type": "execute_result"
    }
   ],
   "source": [
    "#Let's get all the SMS-received patients in datasets,and then count the value for show and no-show.\n",
    "SMS_df = df.query('SMS_received==1')\n",
    "SMS_pt = SMS_df['No-show'].value_counts()\n",
    "Total_SMS_pt = SMS_df['No-show'].count()\n",
    "Proportion_SMS_df = SMS_pt/Total_SMS_pt\n",
    "Proportion_SMS_df"
   ]
  },
  {
   "cell_type": "code",
   "execution_count": 190,
   "metadata": {},
   "outputs": [
    {
     "data": {
      "text/plain": [
       "No     0.832967\n",
       "Yes    0.167033\n",
       "Name: No-show, dtype: float64"
      ]
     },
     "execution_count": 190,
     "metadata": {},
     "output_type": "execute_result"
    }
   ],
   "source": [
    "#Let's get all the SMS-received patients in datasets,and then count the value for show and no-show.\n",
    "NonSMS_df = df.query('SMS_received==0')\n",
    "NonSMS_pt = NonSMS_df['No-show'].value_counts()\n",
    "Total_NonSMS_pt = NonSMS_df['No-show'].count()\n",
    "Proportion_NonSMS_df = NonSMS_pt/Total_NonSMS_pt\n",
    "Proportion_NonSMS_df"
   ]
  },
  {
   "cell_type": "code",
   "execution_count": 264,
   "metadata": {},
   "outputs": [
    {
     "data": {
      "image/png": "[encoded data removed]",
      "text/plain": [
       "<Figure size 432x288 with 1 Axes>"
      ]
     },
     "metadata": {},
     "output_type": "display_data"
    }
   ],
   "source": [
    "plt.bar([\"SMS\", \"No SMS\"], [Proportion_SMS_df[0], Proportion_NonSMS_df[0]], color =['yellow','red'],alpha=0.8)\n",
    "plt.title(\"Percentage of Patients Showing up for appointment\", fontsize=18)\n",
    "plt.xlabel(\"SMS Received\", fontsize=18)\n",
    "plt.ylabel(\"Percentage\", fontsize=18);"
   ]
  },
  {
   "cell_type": "markdown",
   "metadata": {},
   "source": [
    "72.43% of the SMS_received patients will show up for appointments, and 83% of the non-SMS received patients will show up for appointments. 10.66% difference is considered a significant difference. We can conclude that SMS received might be a factor to predict if a patient will show up for their scheduled appointment. Patient received no message has higher rate of showing up for appointments."
   ]
  },
  {
   "cell_type": "markdown",
   "metadata": {},
   "source": [
    "### Research Question 4  : Does age affect show-up rate?"
   ]
  },
  {
   "cell_type": "code",
   "execution_count": 247,
   "metadata": {
    "scrolled": true
   },
   "outputs": [
    {
     "data": {
      "text/plain": [
       "Age_category  No-show\n",
       "adult         No         54656\n",
       "              Yes        14089\n",
       "child         No         21383\n",
       "              Yes         5997\n",
       "elderly       No         12169\n",
       "              Yes         2233\n",
       "Name: No-show, dtype: int64"
      ]
     },
     "execution_count": 247,
     "metadata": {},
     "output_type": "execute_result"
    }
   ],
   "source": [
    "# Let's categorize age column into 3 groups: adult, child, elderly\n",
    "# And then count the no-show counts for each age group\n",
    "def convert_age(age):\n",
    "    if age >=65:\n",
    "        return 'elderly'\n",
    "    elif age>=18:\n",
    "        return 'adult'\n",
    "    else:\n",
    "        return 'child'\n",
    "    \n",
    "df['Age_category']=df['Age'].apply(convert_age)\n",
    "Age_cat = df.groupby('Age_category')['No-show'].value_counts()\n",
    "Age_cat"
   ]
  },
  {
   "cell_type": "code",
   "execution_count": 238,
   "metadata": {},
   "outputs": [
    {
     "data": {
      "text/plain": [
       "Age_category\n",
       "adult      68745\n",
       "child      27380\n",
       "elderly    14402\n",
       "Name: No-show, dtype: int64"
      ]
     },
     "execution_count": 238,
     "metadata": {},
     "output_type": "execute_result"
    }
   ],
   "source": [
    "# Calculate total patients in each age group\n",
    "Total_Age_pt = df.groupby('Age_category')['No-show'].count()\n",
    "Total_Age_pt"
   ]
  },
  {
   "cell_type": "code",
   "execution_count": 241,
   "metadata": {},
   "outputs": [
    {
     "data": {
      "text/plain": [
       "Age_category  No-show\n",
       "adult         No         0.795054\n",
       "              Yes        0.204946\n",
       "child         No         0.780972\n",
       "              Yes        0.219028\n",
       "elderly       No         0.844952\n",
       "              Yes        0.155048\n",
       "Name: No-show, dtype: float64"
      ]
     },
     "execution_count": 241,
     "metadata": {},
     "output_type": "execute_result"
    }
   ],
   "source": [
    "# Calculate the percentage of no-show patients in each age group\n",
    "Proportion_Age_cat_df = Age_cat/Total_Age_pt\n",
    "Proportion_Age_cat_df"
   ]
  },
  {
   "cell_type": "code",
   "execution_count": 265,
   "metadata": {},
   "outputs": [
    {
     "data": {
      "image/png": "[encoded data removed]",
      "text/plain": [
       "<Figure size 432x288 with 1 Axes>"
      ]
     },
     "metadata": {},
     "output_type": "display_data"
    }
   ],
   "source": [
    "plt.bar([\"adult\", \"child\",\"elderly\"], [Proportion_Age_cat_df[0], Proportion_Age_cat_df[2],Proportion_Age_cat_df[4]], color =['pink','pink','red'],alpha=0.8)\n",
    "plt.title(\"Percentage of Patients Showing up for appointment\", fontsize=18)\n",
    "plt.xlabel(\"Age Category\", fontsize=18)\n",
    "plt.ylabel(\"Percentage\", fontsize=18);"
   ]
  },
  {
   "cell_type": "markdown",
   "metadata": {},
   "source": [
    "If we categorize all the ages into 3 different groups: adult(age >=18 and <65), child(age <18) and elderly(age>65), we can see that elderly has higher rate (84.49%) of showing up for appointment than the other two groups: child (78.09%) and adult (79.51%)."
   ]
  },
  {
   "cell_type": "markdown",
   "metadata": {},
   "source": [
    "<a id='conclusions'></a>\n",
    "## Conclusions"
   ]
  },
  {
   "cell_type": "markdown",
   "metadata": {},
   "source": [
    "A. Of all the patients, 20.19% of the patients will likely miss the appointments, and 79.81% of the patients will likely show up for the appointments."
   ]
  },
  {
   "cell_type": "markdown",
   "metadata": {
    "collapsed": true
   },
   "source": [
    "B. If patient's scheduled day and appointment day are at the same day, they will more likely show up for their appointments. "
   ]
  },
  {
   "cell_type": "markdown",
   "metadata": {},
   "source": [
    "C. Gender, scholarship, hipertension, diabetes, alcoholism, handicapped are not important factors to predict if a patient will show up for their scheduled appointment. 72.43% of the SMS_received patients will show up for appointments, and 83% of the non-SMS received patients will show up for appointments. Therefore, we can conclude that patient received no message has higher rate of showing up for appointments."
   ]
  },
  {
   "cell_type": "markdown",
   "metadata": {},
   "source": [
    "D. Elderly (age >=65 years old) has higher rate (84.49%) of showing up for appointment than the other two groups: child (78.09%) and adult (79.51%)."
   ]
  }
 ],
 "metadata": {
  "kernelspec": {
   "display_name": "Python [default]",
   "language": "python",
   "name": "python3"
  },
  "language_info": {
   "codemirror_mode": {
    "name": "ipython",
    "version": 3
   },
   "file_extension": ".py",
   "mimetype": "text/x-python",
   "name": "python",
   "nbconvert_exporter": "python",
   "pygments_lexer": "ipython3",
   "version": "3.6.5"
  }
 },
 "nbformat": 4,
 "nbformat_minor": 2
}
